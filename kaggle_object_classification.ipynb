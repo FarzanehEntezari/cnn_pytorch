{
  "cells": [
    {
      "cell_type": "code",
      "execution_count": null,
      "metadata": {
        "colab": {
          "base_uri": "https://localhost:8080/",
          "height": 173
        },
        "id": "NEktQWLfvzTo",
        "outputId": "a2a1eff6-8904-4735-ace5-eaed07683fff"
      },
      "outputs": [
        {
          "name": "stdout",
          "output_type": "stream",
          "text": [
            "Requirement already satisfied: torch==0.4.1 from http://download.pytorch.org/whl/cu92/torch-0.4.1-cp36-cp36m-linux_x86_64.whl in /usr/local/lib/python3.6/dist-packages (0.4.1)\n",
            "Requirement already satisfied: torchvision in /usr/local/lib/python3.6/dist-packages (0.2.1)\n",
            "Requirement already satisfied: six in /usr/local/lib/python3.6/dist-packages (from torchvision) (1.11.0)\n",
            "Requirement already satisfied: pillow>=4.1.1 in /usr/local/lib/python3.6/dist-packages (from torchvision) (5.3.0)\n",
            "Requirement already satisfied: torch in /usr/local/lib/python3.6/dist-packages (from torchvision) (0.4.1)\n",
            "Requirement already satisfied: numpy in /usr/local/lib/python3.6/dist-packages (from torchvision) (1.14.6)\n",
            "0.4.1\n",
            "True\n"
          ]
        }
      ],
      "source": [
        "!pip3 install http://download.pytorch.org/whl/cu92/torch-0.4.1-cp36-cp36m-linux_x86_64.whl\n",
        "!pip3 install torchvision\n",
        "import torch\n",
        "print(torch.__version__)\n",
        "print(torch.cuda.is_available())\n",
        "\n"
      ]
    },
    {
      "cell_type": "code",
      "execution_count": null,
      "metadata": {
        "colab": {
          "base_uri": "https://localhost:8080/",
          "height": 34
        },
        "id": "2Zl6vvJ1v0hq",
        "outputId": "d6135cf5-0bb7-4272-f706-56ac2b1d2761"
      },
      "outputs": [
        {
          "name": "stdout",
          "output_type": "stream",
          "text": [
            "Requirement already satisfied: fastprogress in /usr/local/lib/python3.6/dist-packages (0.1.15)\n"
          ]
        }
      ],
      "source": [
        "!pip3 install fastprogress"
      ]
    },
    {
      "cell_type": "code",
      "execution_count": null,
      "metadata": {
        "id": "5MJ9yIJLvvHr"
      },
      "outputs": [],
      "source": [
        "path = 'train_images.npy'\n",
        "labels = 'train_labels.csv'\n",
        "test_path = 'test_images.npy'"
      ]
    },
    {
      "cell_type": "code",
      "execution_count": null,
      "metadata": {
        "id": "Mq_8EDeqvvHw"
      },
      "outputs": [],
      "source": [
        "import torch\n",
        "torch.cuda.set_device(0)"
      ]
    },
    {
      "cell_type": "code",
      "execution_count": null,
      "metadata": {
        "id": "olsIA7IWvvH0"
      },
      "outputs": [],
      "source": [
        "import numpy as np\n",
        "import pandas as pd\n",
        "import os\n",
        "from torch.utils.data import Dataset, DataLoader\n",
        "from torchvision import transforms, utils\n",
        "from PIL import Image"
      ]
    },
    {
      "cell_type": "code",
      "execution_count": null,
      "metadata": {
        "id": "vpAZrF3NvvH3"
      },
      "outputs": [],
      "source": [
        "data = np.load(path, encoding='bytes')\n",
        "test_data = np.load(test_path, encoding='bytes')"
      ]
    },
    {
      "cell_type": "code",
      "execution_count": null,
      "metadata": {
        "id": "v4kQKY8iuECm"
      },
      "outputs": [],
      "source": [
        "### normalization\n",
        "def stats(imgs): \n",
        "  means = []\n",
        "  stds = []\n",
        "  for i in range(len(imgs)):\n",
        "    means.append(np.mean(imgs[i]))\n",
        "\n",
        "  for i in range(len(imgs)):\n",
        "    stds.append(np.std(imgs[i]))\n",
        "\n",
        "  mean = sum(means)/len(means)\n",
        "  std = sum(stds)/len(stds)\n",
        "\n",
        "  for i in range(len(imgs)):\n",
        "    imgs[i] = (imgs[i] - mean)/std\n",
        "  \n",
        "  return imgs"
      ]
    },
    {
      "cell_type": "code",
      "execution_count": null,
      "metadata": {
        "id": "uT3-gAy7vvH6"
      },
      "outputs": [],
      "source": [
        "### split the data\n",
        "np.random.shuffle(data)\n",
        "split = 0.25\n",
        "length = len(data)\n",
        "test_idx, train_idx = data[:int(length*split)], data[int(length*split):] "
      ]
    },
    {
      "cell_type": "code",
      "execution_count": null,
      "metadata": {
        "id": "tAw3lAq9xOZH"
      },
      "outputs": [],
      "source": [
        "### normalization\n",
        "# data[:int(length*split), 1] = stats(data[:int(length*split), 1])\n",
        "# data[int(length*split):, 1] = stats(data[int(length*split):, 1])"
      ]
    },
    {
      "cell_type": "code",
      "execution_count": null,
      "metadata": {
        "id": "ItCcUbbVvvH9"
      },
      "outputs": [],
      "source": [
        "class MyDataset(Dataset):\n",
        "\n",
        "    def __init__(self, csv_file, data, transform=None, is_test=False):\n",
        "        \"\"\"\n",
        "        Args:\n",
        "            csv_file (string): Path to the csv file with annotations.\n",
        "            root_dir (string): Directory with all the images.\n",
        "            transform (callable, optional): Optional transform to be applied\n",
        "                on a sample.\n",
        "        \"\"\"\n",
        "        self.lbs = pd.read_csv(csv_file)\n",
        "        self.labels = self.lbs['Category'].values.tolist()\n",
        "        self.classes = sorted(set(self.lbs['Category'].values.tolist()))\n",
        "        self.class2idx = {cl:idx for idx, cl in enumerate(self.classes)}\n",
        "        self.data = data\n",
        "        self.transform = transform\n",
        "        self.is_test=is_test\n",
        "\n",
        "    def __len__(self):\n",
        "        return len(self.data)\n",
        "\n",
        "    def __getitem__(self, idx):\n",
        "        img = self.data[idx][1].astype(np.float32)\n",
        "        img = img.reshape(100, 100)\n",
        "        img = np.stack([img]*3, axis=2)\n",
        "        img = Image.fromarray(img.astype('uint8'), 'RGB')\n",
        "        \n",
        "        if self.transform:\n",
        "            img = self.transform(img)\n",
        "            \n",
        "        if self.is_test:\n",
        "            return img\n",
        "\n",
        "        y = self.labels[self.data[idx][0]]\n",
        "        y = self.class2idx[y]\n",
        "\n",
        "\n",
        "        return img, y"
      ]
    },
    {
      "cell_type": "code",
      "execution_count": null,
      "metadata": {
        "id": "3Aqmr6l2vvIA"
      },
      "outputs": [],
      "source": [
        "### image Agmentation\n",
        "transform_train = transforms.Compose([\n",
        "                                 transforms.Resize(224),\n",
        "                                 transforms.RandomRotation(10, resample=False, expand=False, center=None),\n",
        "                                 transforms.RandomHorizontalFlip(),\n",
        "                                 transforms.ToTensor()\n",
        "                                ])\n",
        "\n",
        "transform_test  = transforms.Compose([transforms.Resize(224),\n",
        "                                 transforms.ToTensor()\n",
        "                                ])\n",
        "\n",
        "train_dataset = MyDataset(csv_file=labels, data=train_idx, transform=transform_train)\n",
        "train_loader = DataLoader(train_dataset, batch_size=32, shuffle=True, num_workers=4)\n",
        "\n",
        "valid_dataset = MyDataset(csv_file=labels, data=test_idx, transform=transform_test)\n",
        "valid_loader = DataLoader(valid_dataset, batch_size=64, shuffle=False, num_workers=4)\n",
        "\n",
        "test_dataset = MyDataset(csv_file=labels, data=test_data, transform=transform_test, is_test=True)\n",
        "test_loader = DataLoader(test_dataset, batch_size=64, shuffle=False, num_workers=4)"
      ]
    },
    {
      "cell_type": "code",
      "execution_count": null,
      "metadata": {
        "id": "FPmFJhHBvvID"
      },
      "outputs": [],
      "source": [
        "import torch.nn as nn\n",
        "import torch.nn.functional as F\n",
        "import torch.optim as optim\n",
        "import fastprogress\n",
        "from fastprogress import master_bar, progress_bar\n",
        "\n",
        "class Lambda(nn.Module):\n",
        "    def __init__(self, func):\n",
        "        super().__init__()\n",
        "        self.func=func\n",
        "\n",
        "    def forward(self, x): return self.func(x)\n",
        "    \n",
        "def Flatten():\n",
        "    return Lambda(lambda x: x.view((x.size(0), -1)))\n",
        "\n",
        "def train(mb, model, device, train_loader, optimizer, epoch, loss_fn, scheduler=None):\n",
        "    model.train()\n",
        "    train_loss = 0\n",
        "    if scheduler:\n",
        "      scheduler.step()\n",
        "    for batch_idx, (data, target) in enumerate(progress_bar(train_loader, parent=mb)):\n",
        "        data, target = data.to(device), target.to(device)\n",
        "        optimizer.zero_grad()\n",
        "        output = model(data)\n",
        "        loss = loss_fn(output, target)\n",
        "        train_loss += loss.item()\n",
        "        loss.backward()\n",
        "        optimizer.step()\n",
        "        if scheduler:\n",
        "          scheduler.batch_step()\n",
        "        mb.child.comment = 'Train Epoch: {} [{}/{} ({:.0f}%)]\\tLoss: {:.6f}'.format(\n",
        "                epoch, batch_idx * len(data), len(train_loader.dataset),\n",
        "                100. * batch_idx / len(train_loader), loss.item())\n",
        "    \n",
        "    return train_loss/len(train_loader)\n",
        "        \n",
        "def test(mb, model, device, test_loader, loss_fn):\n",
        "    model.eval()\n",
        "    test_loss = 0\n",
        "    correct = 0\n",
        "    with torch.no_grad():\n",
        "        for data, target in test_loader:\n",
        "            data, target = data.to(device), target.to(device)\n",
        "            output = model(data)\n",
        "            test_loss += loss_fn(output, target, reduction='sum').item() # sum up batch loss\n",
        "            pred = output.max(1, keepdim=True)[1] # get the index of the max log-probability\n",
        "            correct += pred.eq(target.view_as(pred)).sum().item()\n",
        "\n",
        "    test_loss /= len(test_loader.dataset)\n",
        "\n",
        "    return correct/len(test_loader.dataset), test_loss\n",
        "    \n",
        "def evaluate(model, device, test_loader):\n",
        "    model.eval()\n",
        "    preds = []\n",
        "    with torch.no_grad():\n",
        "        for data in test_loader:\n",
        "            data = data.to(device)\n",
        "            output = model(data)\n",
        "            pred = output.max(1, keepdim=True)[1].tolist() # get the index of the max log-probability\n",
        "            preds += pred\n",
        "    return preds"
      ]
    },
    {
      "cell_type": "code",
      "execution_count": null,
      "metadata": {
        "id": "iLTbRsdbAcGK"
      },
      "outputs": [],
      "source": [
        "from torch.autograd import Variable\n",
        "\n",
        "### Focal loss\n",
        "def one_hot(index, classes):\n",
        "    size = index.size() + (classes,)\n",
        "    view = index.size() + (1,)\n",
        "\n",
        "    mask = torch.Tensor(*size).fill_(0).cuda()\n",
        "    index = index.view(*view)\n",
        "    ones = 1.\n",
        "\n",
        "    if isinstance(index, Variable):\n",
        "        ones = Variable(torch.Tensor(index.size()).fill_(1)).cuda()\n",
        "        mask = Variable(mask, volatile=index.volatile).cuda()\n",
        "\n",
        "    return mask.scatter_(1, index, ones)\n",
        "\n",
        "\n",
        "class FocalLoss(nn.Module):\n",
        "\n",
        "    def __init__(self, gamma=2, alpha=0.25, eps=1e-7):\n",
        "        super(FocalLoss, self).__init__()\n",
        "        self.gamma = gamma\n",
        "        self.eps = eps\n",
        "        self.alpha = alpha\n",
        "\n",
        "    def forward(self, input, target, reduction=None):\n",
        "        y = one_hot(target, input.size(-1))\n",
        "        logit = F.softmax(input, dim=-1)\n",
        "        logit = logit.clamp(self.eps, 1. - self.eps)\n",
        "\n",
        "        loss = -1 * y * torch.log(logit) # cross entropy\n",
        "        loss = self.alpha * loss * (1 - logit) ** self.gamma # focal loss\n",
        "        if reduction:\n",
        "          return loss.sum()\n",
        "        else:\n",
        "          return loss.mean()"
      ]
    },
    {
      "cell_type": "code",
      "execution_count": null,
      "metadata": {
        "id": "S6IcUGVTvvIF"
      },
      "outputs": [],
      "source": [
        "### hyper-parameters\n",
        "lr=1e-2\n",
        "momentum=0.9\n",
        "epochs = 40\n",
        "\n",
        "### loss functions\n",
        "# loss_fn = F.cross_entropy\n",
        "loss_fn = FocalLoss()"
      ]
    },
    {
      "cell_type": "code",
      "execution_count": null,
      "metadata": {
        "id": "ot-q3cRnvvIH"
      },
      "outputs": [],
      "source": [
        "import copy\n",
        "from torchvision.models import resnet18, resnet50, densenet121, densenet169\n",
        "import pdb\n",
        "from adamw import AdamW\n",
        "from cosine_scheduler import CosineLRWithRestarts\n",
        "\n",
        "device = torch.device(\"cuda\")\n",
        "\n",
        "###resnet 50\n",
        "# model = resnet50(pretrained=False)\n",
        "\n",
        "###resnet 18\n",
        "# model = resnet18(pretrained=False)\n",
        "\n",
        "###resnet layers\n",
        "# model.avgpool = nn.AdaptiveAvgPool2d(1)\n",
        "# model.fc = nn.Linear(model.fc.in_features, 31)\n",
        "\n",
        "\n",
        "# model = nn.Sequential(*module_list)\n",
        "# features = model[:-4]\n",
        "# fc = model[-4:]\n",
        "\n",
        "### densenet 121\n",
        "model = densenet121(pretrained=False)\n",
        "model.classifier = nn.Linear(model.classifier.in_features, 31)\n",
        "\n",
        "###sequential model 2 hidden layer just for test\n",
        "# model = nn.Sequential(\n",
        "#             Flatten(),\n",
        "#             nn.Linear(10000, 3000),\n",
        "#             nn.Sigmoid(),\n",
        "#             nn.Linear(3000, 512),\n",
        "#             nn.Sigmoid(),\n",
        "#             nn.Linear(512,31))\n",
        "# model.classifier[-1] = nn.Linear(model.classifier[-1].in_features, 31)\n",
        "model = model.to(device)\n",
        "\n",
        "\n",
        "### SGD with momentum with regularization\n",
        "# optimizer = optim.SGD(model.parameters(), lr=lr, momentum=momentum, weight_decay=5e-4, nesterov=True)\n",
        "\n",
        "### SGD \n",
        "# optimizer = optim.SGD(model.parameters(), lr=lr)\n",
        "\n",
        "### Adam optimizer with 2 diffeerent learing rate at different layers\n",
        "# optimizer =AdamW([\n",
        "#                 {'params': model.features.parameters(), 'lr': lr/10},\n",
        "#                 {'params': model.classifier.parameters(), 'lr': lr/100}\n",
        "#                 ],\n",
        "#                 weight_decay=5e-4)\n",
        "\n",
        "\n",
        "### Adam optimizer with constant learning rate\n",
        "optimizer = optim.Adam(model.parameters(), lr=lr/10)\n",
        "\n",
        "### Adam optimzer constant leanring rate and reqularization\n",
        "# optimizer = AdamW(model.parameters(), lr=lr/10, weight_decay=5e-4)\n",
        "\n",
        "\n",
        "### scheduler on/off\n",
        "# scheduler=None\n",
        "scheduler = CosineLRWithRestarts(optimizer, 32, len(train_loader.dataset), restart_period=5, t_mult=1.2)\n",
        "\n",
        "\n",
        "### main code \n",
        "mb = master_bar(range(1, epochs + 1))\n",
        "best_acc = 0\n",
        "best_model_dict = {}\n",
        "\n",
        "trn_losses = []\n",
        "test_losses = []\n",
        "accs = []\n",
        "\n",
        "for epoch in mb:\n",
        "    train_loss = train(mb, model, device, train_loader, optimizer, epoch, loss_fn, scheduler=scheduler)\n",
        "    acc, test_loss = test(mb, model, device, valid_loader, loss_fn)\n",
        "    mb.write(f'Epoch {epoch}, Train loss {train_loss:.4f}, Test loss: {test_loss:.4f}, Accuracy: {100*acc:.0f}%')\n",
        "    \n",
        "    trn_losses.append(train_loss)\n",
        "    test_losses.append(test_loss)\n",
        "    accs.append(acc*100)\n",
        "\n",
        "\n",
        "    if acc > best_acc:\n",
        "        best_acc=acc\n",
        "        best_model_dict = copy.deepcopy(model.state_dict())"
      ]
    },
    {
      "cell_type": "code",
      "execution_count": null,
      "metadata": {
        "id": "aN--6M9KvvIL"
      },
      "outputs": [],
      "source": [
        "import matplotlib.pyplot as plt\n",
        "plt.subplot(211)\n",
        "plt.plot(trn_losses, label='train_loss')\n",
        "plt.plot(test_losses, label='test_loss')\n",
        "plt.ylabel('loss')\n",
        "plt.xlabel('epochs')\n",
        "plt.legend()\n",
        "plt.subplot(212)\n",
        "plt.plot(accs, label='accuracy')\n",
        "plt.xlabel('epochs')\n",
        "plt.subplots_adjust(hspace=0.5)\n",
        "\n",
        "plt.savefig('trn_test_losses.png')"
      ]
    },
    {
      "cell_type": "code",
      "execution_count": null,
      "metadata": {
        "id": "fzoAnzEA0aeJ"
      },
      "outputs": [],
      "source": [
        "model.load_state_dict(best_model_dict)\n",
        "preds = evaluate(model, device, test_loader)"
      ]
    },
    {
      "cell_type": "code",
      "execution_count": null,
      "metadata": {
        "id": "H2aYuFcRvvIN"
      },
      "outputs": [],
      "source": [
        "lbs = pd.read_csv(labels)\n",
        "_labels = lbs['Category'].values.tolist()\n",
        "_classes = sorted(set(lbs['Category'].values.tolist()))\n",
        "_idx2class = {idx:cl for idx, cl in enumerate(_classes)}"
      ]
    },
    {
      "cell_type": "code",
      "execution_count": null,
      "metadata": {
        "id": "F1eYYKccvvIP"
      },
      "outputs": [],
      "source": [
        "idxs = []\n",
        "for idx in np.asarray(preds).reshape(-1):\n",
        "    idxs.append(_idx2class[idx])"
      ]
    },
    {
      "cell_type": "code",
      "execution_count": null,
      "metadata": {
        "id": "ZvQuI1nWvvIQ"
      },
      "outputs": [],
      "source": [
        "s = pd.Series(idxs, index=range(len(preds)))"
      ]
    },
    {
      "cell_type": "code",
      "execution_count": null,
      "metadata": {
        "id": "1XteYlwxIX1i"
      },
      "outputs": [],
      "source": [
        "df = s.to_frame().reset_index()\n",
        "df.columns = ['Id', 'Category']"
      ]
    },
    {
      "cell_type": "code",
      "execution_count": null,
      "metadata": {
        "id": "rSplbnD3vvIR"
      },
      "outputs": [],
      "source": [
        "df.to_csv('out.csv', index = False)"
      ]
    }
  ],
  "metadata": {
    "accelerator": "GPU",
    "colab": {
      "name": "kaggle_object_classification.ipynb",
      "provenance": []
    },
    "kernelspec": {
      "display_name": "Python 3",
      "language": "python",
      "name": "python3"
    },
    "language_info": {
      "codemirror_mode": {
        "name": "ipython",
        "version": 3
      },
      "file_extension": ".py",
      "mimetype": "text/x-python",
      "name": "python",
      "nbconvert_exporter": "python",
      "pygments_lexer": "ipython3",
      "version": "3.6.5"
    }
  },
  "nbformat": 4,
  "nbformat_minor": 0
}